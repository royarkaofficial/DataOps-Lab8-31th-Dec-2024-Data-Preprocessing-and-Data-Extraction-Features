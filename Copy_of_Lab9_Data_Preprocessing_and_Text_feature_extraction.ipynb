{
  "nbformat": 4,
  "nbformat_minor": 0,
  "metadata": {
    "colab": {
      "provenance": [],
      "include_colab_link": true
    },
    "kernelspec": {
      "name": "python3",
      "display_name": "Python 3"
    },
    "language_info": {
      "name": "python"
    }
  },
  "cells": [
    {
      "cell_type": "markdown",
      "metadata": {
        "id": "view-in-github",
        "colab_type": "text"
      },
      "source": [
        "<a href=\"https://colab.research.google.com/github/royarkaofficial/DataOps-Lab8-31th-Dec-2024-Data-Preprocessing-and-Data-Extraction-Features/blob/main/Copy_of_Lab9_Data_Preprocessing_and_Text_feature_extraction.ipynb\" target=\"_parent\"><img src=\"https://colab.research.google.com/assets/colab-badge.svg\" alt=\"Open In Colab\"/></a>"
      ]
    },
    {
      "cell_type": "code",
      "execution_count": null,
      "metadata": {
        "colab": {
          "base_uri": "https://localhost:8080/"
        },
        "id": "dWLtP3Ebx56Q",
        "outputId": "c44963c3-f1f3-4b95-8997-c55375388977"
      },
      "outputs": [
        {
          "output_type": "stream",
          "name": "stdout",
          "text": [
            "Preprocessing complete. Processed dataset saved at: processed_dataset.csv\n"
          ]
        }
      ],
      "source": [
        "import pandas as pd\n",
        "from sklearn.feature_extraction.text import TfidfVectorizer\n",
        "from sklearn.preprocessing import OneHotEncoder\n",
        "\n",
        "# Load the dataset\n",
        "file_path = \"/content/sample_data/dataset_for_encoding_and_tfidf.csv\"  # Adjust path if needed\n",
        "df = pd.read_csv(file_path)\n",
        "\n",
        "# Step 1: One-Hot Encoding for 'Category' Column\n",
        "one_hot_encoder = OneHotEncoder(sparse_output=False)\n",
        "encoded_categories = one_hot_encoder.fit_transform(df[['Category']])\n",
        "category_columns = one_hot_encoder.get_feature_names_out(['Category'])\n",
        "category_df = pd.DataFrame(encoded_categories, columns=category_columns)\n",
        "\n",
        "# Add one-hot encoded columns to the original dataset\n",
        "df = pd.concat([df, category_df], axis=1)\n",
        "\n",
        "# Step 2: Split 'Date' into Day, Month, and Year\n",
        "df['Date'] = pd.to_datetime(df['Date'])  # Convert to datetime\n",
        "df['Day'] = df['Date'].dt.day\n",
        "df['Month'] = df['Date'].dt.month\n",
        "df['Year'] = df['Date'].dt.year\n",
        "\n",
        "# Step 3: Apply TFIDF Vectorizer on 'TextData' Column\n",
        "tfidf_vectorizer = TfidfVectorizer(max_features=100)  # Set max features to avoid high dimensionality\n",
        "tfidf_features = tfidf_vectorizer.fit_transform(df['TextData'])\n",
        "tfidf_df = pd.DataFrame(tfidf_features.toarray(), columns=tfidf_vectorizer.get_feature_names_out())\n",
        "\n",
        "# Merge TFIDF features into the original dataset\n",
        "df = pd.concat([df, tfidf_df], axis=1)\n",
        "\n",
        "# Drop original 'Category', 'Date', and 'TextData' columns if no longer needed\n",
        "df.drop(columns=['Category', 'Date', 'TextData'], inplace=True)\n",
        "\n",
        "# Save the processed dataset\n",
        "processed_file_path = \"processed_dataset.csv\"\n",
        "df.to_csv(processed_file_path, index=False)\n",
        "\n",
        "print(f\"Preprocessing complete. Processed dataset saved at: {processed_file_path}\")\n"
      ]
    }
  ]
}